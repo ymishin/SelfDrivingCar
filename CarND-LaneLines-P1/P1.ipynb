{
 "cells": [
  {
   "cell_type": "markdown",
   "metadata": {},
   "source": [
    "# Self-Driving Car Engineer Nanodegree\n",
    "\n",
    "\n",
    "## Project: **Finding Lane Lines on the Road** \n",
    "\n",
    "***"
   ]
  },
  {
   "cell_type": "markdown",
   "metadata": {},
   "source": [
    "## Import Packages"
   ]
  },
  {
   "cell_type": "code",
   "execution_count": 2,
   "metadata": {},
   "outputs": [],
   "source": [
    "import matplotlib.pyplot as plt\n",
    "import matplotlib.image as mpimg\n",
    "import numpy as np\n",
    "import math\n",
    "import cv2\n",
    "import os\n",
    "%matplotlib inline"
   ]
  },
  {
   "cell_type": "markdown",
   "metadata": {},
   "source": [
    "## Helper Functions\n",
    "\n",
    "Some functions to be used in late detection pipeline"
   ]
  },
  {
   "cell_type": "code",
   "execution_count": 6,
   "metadata": {},
   "outputs": [],
   "source": [
    "def grayscale(img):\n",
    "    \"\"\"Applies the Grayscale transform\n",
    "    This will return an image with only one color channel\n",
    "    but NOTE: to see the returned image as grayscale\n",
    "    (assuming your grayscaled image is called 'gray')\n",
    "    you should call plt.imshow(gray, cmap='gray')\"\"\"\n",
    "    return cv2.cvtColor(img, cv2.COLOR_RGB2GRAY)\n",
    "    # Or use BGR2GRAY if you read an image with cv2.imread()\n",
    "    # return cv2.cvtColor(img, cv2.COLOR_BGR2GRAY)\n",
    "    \n",
    "def canny(img, low_threshold, high_threshold):\n",
    "    \"\"\"Applies the Canny transform\"\"\"\n",
    "    return cv2.Canny(img, low_threshold, high_threshold)\n",
    "\n",
    "def gaussian_blur(img, kernel_size):\n",
    "    \"\"\"Applies a Gaussian Noise kernel\"\"\"\n",
    "    return cv2.GaussianBlur(img, (kernel_size, kernel_size), 0)\n",
    "\n",
    "def region_of_interest(img, vertices):\n",
    "    \"\"\"\n",
    "    Applies an image mask.\n",
    "    \n",
    "    Only keeps the region of the image defined by the polygon\n",
    "    formed from `vertices`. The rest of the image is set to black.\n",
    "    `vertices` should be a numpy array of integer points.\n",
    "    \"\"\"\n",
    "    #defining a blank mask to start with\n",
    "    mask = np.zeros_like(img)   \n",
    "    \n",
    "    #defining a 3 channel or 1 channel color to fill the mask with depending on the input image\n",
    "    if len(img.shape) > 2:\n",
    "        channel_count = img.shape[2]  # i.e. 3 or 4 depending on your image\n",
    "        ignore_mask_color = (255,) * channel_count\n",
    "    else:\n",
    "        ignore_mask_color = 255\n",
    "        \n",
    "    #filling pixels inside the polygon defined by \"vertices\" with the fill color    \n",
    "    cv2.fillPoly(mask, vertices, ignore_mask_color)\n",
    "    \n",
    "    #returning the image only where mask pixels are nonzero\n",
    "    masked_image = cv2.bitwise_and(img, mask)\n",
    "    return masked_image\n",
    "\n",
    "\n",
    "def draw_lines(img, lines, color=[255, 0, 0], thickness=2):\n",
    "    \"\"\"\n",
    "    NOTE: this is the function you might want to use as a starting point once you want to \n",
    "    average/extrapolate the line segments you detect to map out the full\n",
    "    extent of the lane (going from the result shown in raw-lines-example.mp4\n",
    "    to that shown in P1_example.mp4).  \n",
    "    \n",
    "    Think about things like separating line segments by their \n",
    "    slope ((y2-y1)/(x2-x1)) to decide which segments are part of the left\n",
    "    line vs. the right line.  Then, you can average the position of each of \n",
    "    the lines and extrapolate to the top and bottom of the lane.\n",
    "    \n",
    "    This function draws `lines` with `color` and `thickness`.    \n",
    "    Lines are drawn on the image inplace (mutates the image).\n",
    "    If you want to make the lines semi-transparent, think about combining\n",
    "    this function with the weighted_img() function below\n",
    "    \"\"\"\n",
    "    for line in lines:\n",
    "        for x1,y1,x2,y2 in line:\n",
    "            cv2.line(img, (x1, y1), (x2, y2), color, thickness)\n",
    "            \n",
    "def draw_lines2(image, lines, ymin, ymax, color=[255, 0, 0], thickness=4):\n",
    "    left_x = np.array([])\n",
    "    left_y = np.array([])\n",
    "    right_x = np.array([])\n",
    "    right_y = np.array([])\n",
    "    for line in lines:\n",
    "        for x1, y1, x2, y2 in line:\n",
    "            if (-2.0 < (y2-y1) / (x2-x1) < -0.5):\n",
    "                left_x = np.append(left_x, [x1, x2])\n",
    "                left_y = np.append(left_y, [y1, y2])\n",
    "            elif  (0.5 < (y2-y1) / (x2-x1) < 2.0):\n",
    "                right_x = np.append(right_x, [x1, x2])\n",
    "                right_y = np.append(right_y, [y1, y2])\n",
    "                \n",
    "    left_poly = np.poly1d(np.polyfit(left_y, left_x, 1))\n",
    "    right_poly = np.poly1d(np.polyfit(right_y, right_x, 1))\n",
    "    \n",
    "    left_line = [int(left_poly(ymax)), int(ymax), int(left_poly(ymin)), int(ymin)]    \n",
    "    right_line = [int(right_poly(ymax)), int(ymax), int(right_poly(ymin)), int(ymin)]\n",
    "    \n",
    "    cv2.line(image, (left_line[0], left_line[1]), (left_line[2], left_line[3]), color, thickness)\n",
    "    cv2.line(image, (right_line[0], right_line[1]), (right_line[2], right_line[3]), color, thickness)           \n",
    "\n",
    "def hough_lines(img, rho, theta, threshold, min_line_len, max_line_gap):\n",
    "    \"\"\"\n",
    "    `img` should be the output of a Canny transform.\n",
    "        \n",
    "    Returns an image with hough lines drawn.\n",
    "    \"\"\"\n",
    "    lines = cv2.HoughLinesP(img, rho, theta, threshold, np.array([]), minLineLength=min_line_len, maxLineGap=max_line_gap)    \n",
    "    return lines\n",
    "\n",
    "def weighted_img(img, initial_img, α=0.8, β=1., γ=0.):\n",
    "    \"\"\"\n",
    "    `img` is the output of the hough_lines(), An image with lines drawn on it.\n",
    "    Should be a blank image (all black) with lines drawn on it.\n",
    "    \n",
    "    `initial_img` should be the image before any processing.\n",
    "    \n",
    "    The result image is computed as follows:\n",
    "    \n",
    "    initial_img * α + img * β + γ\n",
    "    NOTE: initial_img and img must be the same shape!\n",
    "    \"\"\"\n",
    "    return cv2.addWeighted(initial_img, α, img, β, γ)"
   ]
  },
  {
   "cell_type": "markdown",
   "metadata": {},
   "source": [
    "## Lane Detection Pipeline"
   ]
  },
  {
   "cell_type": "markdown",
   "metadata": {},
   "source": [
    "Build the pipeline and run your solution on all test_images. Make copies into the `test_images_output` directory, and you can use the images in your writeup report.\n",
    "\n",
    "Try tuning the various parameters, especially the low and high Canny thresholds as well as the Hough lines parameters."
   ]
  },
  {
   "cell_type": "code",
   "execution_count": 4,
   "metadata": {},
   "outputs": [],
   "source": [
    "def process_image_file(input_image_file, output_image_file):\n",
    "    # TODO: Build your pipeline that will draw lane lines on the test_images\n",
    "    # then save them to the test_images_output directory.\n",
    "    input_image = mpimg.imread(input_image_file)\n",
    "    output_image = process_image(input_image)\n",
    "    mpimg.imsave(output_image_file, output_image, format=\"jpg\")        \n",
    "        \n",
    "def process_image(input_image):\n",
    "    # NOTE: The output you return should be a color image (3 channel) for processing video below\n",
    "    # TODO: put your pipeline here,\n",
    "    # you should return the final output (image where lines are drawn on lanes)\n",
    "    gray_image = grayscale(input_image)\n",
    "    \n",
    "    kernel_size = 3\n",
    "    blur_image = gaussian_blur(gray_image, kernel_size)\n",
    "\n",
    "    low_threshold = 100\n",
    "    high_threshold = 150\n",
    "    canny_image = canny(blur_image, low_threshold, high_threshold)\n",
    "       \n",
    "    imshape = canny_image.shape\n",
    "    vertices = np.array([[(0, imshape[0]), (imshape[1]/2 - 10, imshape[0]/2 + 50), \\\n",
    "        (imshape[1]/2 + 10, imshape[0]/2 + 50), (imshape[1], imshape[0])]], dtype=np.int32)\n",
    "    masked_image = region_of_interest(canny_image, vertices)\n",
    "\n",
    "    rho = 1\n",
    "    theta = np.pi / 180\n",
    "    threshold = 20\n",
    "    min_line_len = 30\n",
    "    max_line_gap = 20\n",
    "    lines = hough_lines(masked_image, rho, theta, threshold, min_line_len, max_line_gap)\n",
    "    \n",
    "    lines_image = np.zeros((imshape[0], imshape[1], 3), dtype=np.uint8)\n",
    "    ymin = imshape[0]/2 + 50\n",
    "    ymax = imshape[0]\n",
    "    draw_lines2(lines_image, lines, ymin, ymax)\n",
    "\n",
    "    output_image = weighted_img(lines_image, input_image)\n",
    "    return output_image"
   ]
  },
  {
   "cell_type": "markdown",
   "metadata": {},
   "source": [
    "## Test on Images\n",
    "\n",
    "Run lane detection pipeline on test images"
   ]
  },
  {
   "cell_type": "code",
   "execution_count": 5,
   "metadata": {},
   "outputs": [],
   "source": [
    "input_dir = \"test_images_input/\"\n",
    "output_dir = \"test_images_output/\"\n",
    "for image_file in os.listdir(input_dir):\n",
    "    process_image_file(input_dir + image_file, output_dir + image_file)"
   ]
  },
  {
   "cell_type": "markdown",
   "metadata": {},
   "source": [
    "## Test on Videos\n",
    "\n",
    "Run lane detection pipeline on test video clips"
   ]
  },
  {
   "cell_type": "code",
   "execution_count": 13,
   "metadata": {},
   "outputs": [],
   "source": [
    "# Import everything needed to edit/save/watch video clips\n",
    "from moviepy.editor import VideoFileClip\n",
    "from IPython.display import HTML"
   ]
  },
  {
   "cell_type": "markdown",
   "metadata": {},
   "source": [
    "#### Test Clip 1"
   ]
  },
  {
   "cell_type": "code",
   "execution_count": 14,
   "metadata": {},
   "outputs": [
    {
     "name": "stdout",
     "output_type": "stream",
     "text": [
      "[MoviePy] >>>> Building video test_videos_output/solidWhiteRight.mp4\n",
      "[MoviePy] Writing video test_videos_output/solidWhiteRight.mp4\n"
     ]
    },
    {
     "name": "stderr",
     "output_type": "stream",
     "text": [
      "100%|███████████████████████████████████████████████████████████████████████████████▋| 221/222 [00:05<00:00, 45.36it/s]\n"
     ]
    },
    {
     "name": "stdout",
     "output_type": "stream",
     "text": [
      "[MoviePy] Done.\n",
      "[MoviePy] >>>> Video ready: test_videos_output/solidWhiteRight.mp4 \n",
      "\n",
      "Wall time: 5.55 s\n"
     ]
    }
   ],
   "source": [
    "input_clip_file = \"test_videos_input/solidWhiteRight.mp4\"\n",
    "output_clip_file = \"test_videos_output/solidWhiteRight.mp4\"\n",
    "\n",
    "input_clip1 = VideoFileClip(input_clip_file)\n",
    "output_clip = input_clip1.fl_image(process_image)\n",
    "%time output_clip.write_videofile(output_clip_file, audio=False)"
   ]
  },
  {
   "cell_type": "markdown",
   "metadata": {},
   "source": [
    "#### Test Clip 2"
   ]
  },
  {
   "cell_type": "code",
   "execution_count": 15,
   "metadata": {},
   "outputs": [
    {
     "name": "stdout",
     "output_type": "stream",
     "text": [
      "[MoviePy] >>>> Building video test_videos_output/solidYellowLeft.mp4\n",
      "[MoviePy] Writing video test_videos_output/solidYellowLeft.mp4\n"
     ]
    },
    {
     "name": "stderr",
     "output_type": "stream",
     "text": [
      "100%|███████████████████████████████████████████████████████████████████████████████▉| 681/682 [00:15<00:00, 43.23it/s]\n"
     ]
    },
    {
     "name": "stdout",
     "output_type": "stream",
     "text": [
      "[MoviePy] Done.\n",
      "[MoviePy] >>>> Video ready: test_videos_output/solidYellowLeft.mp4 \n",
      "\n",
      "Wall time: 16.3 s\n"
     ]
    }
   ],
   "source": [
    "input_clip_file = \"test_videos_input/solidYellowLeft.mp4\"\n",
    "output_clip_file = \"test_videos_output/solidYellowLeft.mp4\"\n",
    "\n",
    "input_clip2 = VideoFileClip(input_clip_file)\n",
    "output_clip = input_clip2.fl_image(process_image)\n",
    "%time output_clip.write_videofile(output_clip_file, audio=False)"
   ]
  }
 ],
 "metadata": {
  "anaconda-cloud": {},
  "kernelspec": {
   "display_name": "Python 3",
   "language": "python",
   "name": "python3"
  },
  "language_info": {
   "codemirror_mode": {
    "name": "ipython",
    "version": 3
   },
   "file_extension": ".py",
   "mimetype": "text/x-python",
   "name": "python",
   "nbconvert_exporter": "python",
   "pygments_lexer": "ipython3",
   "version": "3.5.2"
  },
  "widgets": {
   "state": {},
   "version": "1.1.2"
  }
 },
 "nbformat": 4,
 "nbformat_minor": 1
}
