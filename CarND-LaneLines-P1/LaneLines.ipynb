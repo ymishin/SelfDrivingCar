{
 "cells": [
  {
   "cell_type": "markdown",
   "metadata": {},
   "source": [
    "# Self-Driving Car Engineer Nanodegree\n",
    "\n",
    "\n",
    "## Project: **Finding Lane Lines on the Road** \n",
    "\n",
    "***"
   ]
  },
  {
   "cell_type": "markdown",
   "metadata": {},
   "source": [
    "## Import Packages"
   ]
  },
  {
   "cell_type": "code",
   "execution_count": 1,
   "metadata": {},
   "outputs": [],
   "source": [
    "import matplotlib.pyplot as plt\n",
    "import matplotlib.image as mpimg\n",
    "import numpy as np\n",
    "import math\n",
    "import cv2\n",
    "import os\n",
    "%matplotlib inline"
   ]
  },
  {
   "cell_type": "markdown",
   "metadata": {},
   "source": [
    "## Helper Functions\n",
    "\n",
    "Some functions to be used in lane detection pipeline"
   ]
  },
  {
   "cell_type": "code",
   "execution_count": 2,
   "metadata": {},
   "outputs": [],
   "source": [
    "def grayscale(img):\n",
    "    \"\"\"Applies the Grayscale transform\"\"\"\n",
    "    return cv2.cvtColor(img, cv2.COLOR_RGB2GRAY)\n",
    "    \n",
    "def canny(img, low_threshold, high_threshold):\n",
    "    \"\"\"Applies the Canny transform\"\"\"\n",
    "    return cv2.Canny(img, low_threshold, high_threshold)\n",
    "\n",
    "def gaussian_blur(img, kernel_size):\n",
    "    \"\"\"Applies a Gaussian Noise kernel\"\"\"\n",
    "    return cv2.GaussianBlur(img, (kernel_size, kernel_size), 0)\n",
    "\n",
    "def region_of_interest(img, vertices):\n",
    "    \"\"\"\n",
    "    Applies an image mask.\n",
    "    \n",
    "    Only keeps the region of the image defined by the polygon\n",
    "    formed from `vertices`. The rest of the image is set to black.\n",
    "    `vertices` should be a numpy array of integer points.\n",
    "    \"\"\"\n",
    "    #defining a blank mask to start with\n",
    "    mask = np.zeros_like(img)   \n",
    "    \n",
    "    #defining a 3 channel or 1 channel color to fill the mask with depending on the input image\n",
    "    if len(img.shape) > 2:\n",
    "        channel_count = img.shape[2]  # i.e. 3 or 4 depending on your image\n",
    "        ignore_mask_color = (255,) * channel_count\n",
    "    else:\n",
    "        ignore_mask_color = 255\n",
    "        \n",
    "    #filling pixels inside the polygon defined by \"vertices\" with the fill color    \n",
    "    cv2.fillPoly(mask, vertices, ignore_mask_color)\n",
    "    \n",
    "    #returning the image only where mask pixels are nonzero\n",
    "    masked_image = cv2.bitwise_and(img, mask)\n",
    "    return masked_image\n",
    "            \n",
    "def draw_lines(image, lines, ymin, ymax, color=[255, 0, 0], thickness=4):\n",
    "    left_x = np.array([])\n",
    "    left_y = np.array([])\n",
    "    right_x = np.array([])\n",
    "    right_y = np.array([])\n",
    "    for line in lines:\n",
    "        for x1, y1, x2, y2 in line:\n",
    "            if (-2.0 < (y2-y1) / (x2-x1) < -0.5):\n",
    "                left_x = np.append(left_x, [x1, x2])\n",
    "                left_y = np.append(left_y, [y1, y2])\n",
    "            elif  (0.5 < (y2-y1) / (x2-x1) < 2.0):\n",
    "                right_x = np.append(right_x, [x1, x2])\n",
    "                right_y = np.append(right_y, [y1, y2])\n",
    "                \n",
    "    left_poly = np.poly1d(np.polyfit(left_y, left_x, 1))\n",
    "    right_poly = np.poly1d(np.polyfit(right_y, right_x, 1))\n",
    "    \n",
    "    left_line = [int(left_poly(ymax)), int(ymax), int(left_poly(ymin)), int(ymin)]    \n",
    "    right_line = [int(right_poly(ymax)), int(ymax), int(right_poly(ymin)), int(ymin)]\n",
    "    \n",
    "    cv2.line(image, (left_line[0], left_line[1]), (left_line[2], left_line[3]), color, thickness)\n",
    "    cv2.line(image, (right_line[0], right_line[1]), (right_line[2], right_line[3]), color, thickness)           \n",
    "\n",
    "def hough_lines(img, rho, theta, threshold, min_line_len, max_line_gap):\n",
    "    \"\"\"\n",
    "    `img` should be the output of a Canny transform.\n",
    "    \"\"\"\n",
    "    lines = cv2.HoughLinesP(img, rho, theta, threshold, np.array([]), minLineLength=min_line_len, maxLineGap=max_line_gap)    \n",
    "    return lines\n",
    "\n",
    "def weighted_img(img, initial_img, α=0.8, β=1., γ=0.):\n",
    "    \"\"\"\n",
    "    `img` is the output of the hough_lines(), An image with lines drawn on it.\n",
    "    Should be a blank image (all black) with lines drawn on it.\n",
    "    \n",
    "    `initial_img` should be the image before any processing.\n",
    "    \n",
    "    The result image is computed as follows:    \n",
    "    initial_img * α + img * β + γ\n",
    "    \"\"\"\n",
    "    return cv2.addWeighted(initial_img, α, img, β, γ)"
   ]
  },
  {
   "cell_type": "markdown",
   "metadata": {},
   "source": [
    "## Lane Detection Pipeline"
   ]
  },
  {
   "cell_type": "code",
   "execution_count": 3,
   "metadata": {},
   "outputs": [],
   "source": [
    "def process_image_file(input_image_file, output_image_file):\n",
    "    input_image = mpimg.imread(input_image_file)\n",
    "    output_image = process_image(input_image)\n",
    "    mpimg.imsave(output_image_file, output_image, format=\"jpg\")        \n",
    "        \n",
    "def process_image(input_image):\n",
    "    gray_image = grayscale(input_image)\n",
    "    \n",
    "    kernel_size = 3\n",
    "    blur_image = gaussian_blur(gray_image, kernel_size)\n",
    "\n",
    "    low_threshold = 100\n",
    "    high_threshold = 150\n",
    "    canny_image = canny(blur_image, low_threshold, high_threshold)\n",
    "       \n",
    "    imshape = canny_image.shape\n",
    "    vertices = np.array([[(0, imshape[0]), (imshape[1]/2 - 10, imshape[0]/2 + 50), \\\n",
    "        (imshape[1]/2 + 10, imshape[0]/2 + 50), (imshape[1], imshape[0])]], dtype=np.int32)\n",
    "    masked_image = region_of_interest(canny_image, vertices)\n",
    "\n",
    "    rho = 1\n",
    "    theta = np.pi / 180\n",
    "    threshold = 20\n",
    "    min_line_len = 30\n",
    "    max_line_gap = 20\n",
    "    lines = hough_lines(masked_image, rho, theta, threshold, min_line_len, max_line_gap)\n",
    "    \n",
    "    lines_image = np.zeros((imshape[0], imshape[1], 3), dtype=np.uint8)\n",
    "    ymin = imshape[0]/2 + 50\n",
    "    ymax = imshape[0]\n",
    "    draw_lines(lines_image, lines, ymin, ymax)\n",
    "\n",
    "    output_image = weighted_img(lines_image, input_image)\n",
    "    return output_image"
   ]
  },
  {
   "cell_type": "markdown",
   "metadata": {},
   "source": [
    "## Test on Images\n",
    "\n",
    "Run lane detection pipeline on test images"
   ]
  },
  {
   "cell_type": "code",
   "execution_count": 4,
   "metadata": {},
   "outputs": [],
   "source": [
    "input_dir = \"test_images_input/\"\n",
    "output_dir = \"test_images_output/\"\n",
    "for image_file in os.listdir(input_dir):\n",
    "    process_image_file(input_dir + image_file, output_dir + image_file)"
   ]
  },
  {
   "cell_type": "markdown",
   "metadata": {},
   "source": [
    "## Test on Videos\n",
    "\n",
    "Run lane detection pipeline on test videos"
   ]
  },
  {
   "cell_type": "code",
   "execution_count": 5,
   "metadata": {},
   "outputs": [],
   "source": [
    "from moviepy.editor import VideoFileClip\n",
    "from IPython.display import HTML"
   ]
  },
  {
   "cell_type": "markdown",
   "metadata": {},
   "source": [
    "#### Test Clip 1"
   ]
  },
  {
   "cell_type": "code",
   "execution_count": 6,
   "metadata": {},
   "outputs": [
    {
     "name": "stdout",
     "output_type": "stream",
     "text": [
      "[MoviePy] >>>> Building video test_videos_output/solidWhiteRight.mp4\n",
      "[MoviePy] Writing video test_videos_output/solidWhiteRight.mp4\n"
     ]
    },
    {
     "name": "stderr",
     "output_type": "stream",
     "text": [
      "100%|████████████████████████████████████████████████████████████████████████████████████████████████▌| 221/222 [00:04<00:00, 47.93it/s]\n"
     ]
    },
    {
     "name": "stdout",
     "output_type": "stream",
     "text": [
      "[MoviePy] Done.\n",
      "[MoviePy] >>>> Video ready: test_videos_output/solidWhiteRight.mp4 \n",
      "\n",
      "Wall time: 5.09 s\n"
     ]
    }
   ],
   "source": [
    "input_clip_file = \"test_videos_input/solidWhiteRight.mp4\"\n",
    "output_clip_file = \"test_videos_output/solidWhiteRight.mp4\"\n",
    "\n",
    "input_clip1 = VideoFileClip(input_clip_file)\n",
    "output_clip = input_clip1.fl_image(process_image)\n",
    "%time output_clip.write_videofile(output_clip_file, audio=False)"
   ]
  },
  {
   "cell_type": "markdown",
   "metadata": {},
   "source": [
    "#### Test Clip 2"
   ]
  },
  {
   "cell_type": "code",
   "execution_count": 7,
   "metadata": {},
   "outputs": [
    {
     "name": "stdout",
     "output_type": "stream",
     "text": [
      "[MoviePy] >>>> Building video test_videos_output/solidYellowLeft.mp4\n",
      "[MoviePy] Writing video test_videos_output/solidYellowLeft.mp4\n"
     ]
    },
    {
     "name": "stderr",
     "output_type": "stream",
     "text": [
      "100%|████████████████████████████████████████████████████████████████████████████████████████████████▊| 681/682 [00:14<00:00, 48.17it/s]\n"
     ]
    },
    {
     "name": "stdout",
     "output_type": "stream",
     "text": [
      "[MoviePy] Done.\n",
      "[MoviePy] >>>> Video ready: test_videos_output/solidYellowLeft.mp4 \n",
      "\n",
      "Wall time: 15.2 s\n"
     ]
    }
   ],
   "source": [
    "input_clip_file = \"test_videos_input/solidYellowLeft.mp4\"\n",
    "output_clip_file = \"test_videos_output/solidYellowLeft.mp4\"\n",
    "\n",
    "input_clip2 = VideoFileClip(input_clip_file)\n",
    "output_clip = input_clip2.fl_image(process_image)\n",
    "%time output_clip.write_videofile(output_clip_file, audio=False)"
   ]
  }
 ],
 "metadata": {
  "anaconda-cloud": {},
  "kernelspec": {
   "display_name": "Python 3",
   "language": "python",
   "name": "python3"
  },
  "language_info": {
   "codemirror_mode": {
    "name": "ipython",
    "version": 3
   },
   "file_extension": ".py",
   "mimetype": "text/x-python",
   "name": "python",
   "nbconvert_exporter": "python",
   "pygments_lexer": "ipython3",
   "version": "3.5.2"
  },
  "widgets": {
   "state": {},
   "version": "1.1.2"
  }
 },
 "nbformat": 4,
 "nbformat_minor": 1
}
